{
  "nbformat": 4,
  "nbformat_minor": 0,
  "metadata": {
    "colab": {
      "provenance": [],
      "authorship_tag": "ABX9TyOd/r3bKb/Ays4CdhBq6BIy",
      "include_colab_link": true
    },
    "kernelspec": {
      "name": "python3",
      "display_name": "Python 3"
    },
    "language_info": {
      "name": "python"
    }
  },
  "cells": [
    {
      "cell_type": "markdown",
      "metadata": {
        "id": "view-in-github",
        "colab_type": "text"
      },
      "source": [
        "<a href=\"https://colab.research.google.com/github/Krish5986/Project_Samarth_Q-A/blob/main/EDA_crop_production.ipynb\" target=\"_parent\"><img src=\"https://colab.research.google.com/assets/colab-badge.svg\" alt=\"Open In Colab\"/></a>"
      ]
    },
    {
      "cell_type": "code",
      "execution_count": null,
      "metadata": {
        "id": "qK6dMOZtTs9l"
      },
      "outputs": [],
      "source": [
        "import pandas as pd\n",
        "import numpy as np\n",
        "import seaborn as sns\n",
        "import matplotlib.pyplot as plt"
      ]
    },
    {
      "cell_type": "code",
      "source": [
        "from google.colab import drive\n",
        "drive.mount(\"/content/drive\")"
      ],
      "metadata": {
        "colab": {
          "base_uri": "https://localhost:8080/"
        },
        "id": "rHq5kCGSUm02",
        "outputId": "8fe45e3b-3d5a-48dc-f593-27f8b85e1d16"
      },
      "execution_count": null,
      "outputs": [
        {
          "output_type": "stream",
          "name": "stdout",
          "text": [
            "Drive already mounted at /content/drive; to attempt to forcibly remount, call drive.mount(\"/content/drive\", force_remount=True).\n"
          ]
        }
      ]
    },
    {
      "cell_type": "code",
      "source": [
        "agri_df = pd.read_csv(\"/content/drive/MyDrive/My_Projects/Build_For_Bharat/crop_production_data.csv\")\n",
        "agri_df.head()"
      ],
      "metadata": {
        "colab": {
          "base_uri": "https://localhost:8080/",
          "height": 313
        },
        "id": "JTYAVtaBUrGc",
        "outputId": "36cce21c-47c9-4e55-8dc5-fa624ecb399c"
      },
      "execution_count": null,
      "outputs": [
        {
          "output_type": "execute_result",
          "data": {
            "text/plain": [
              "      state_name district_name  crop_year  season               crop   area_  \\\n",
              "0  Uttar Pradesh        MEERUT       1997  Kharif          Arhar/Tur   986.0   \n",
              "1  Uttar Pradesh        MEERUT       1997  Kharif              Bajra    27.0   \n",
              "2  Uttar Pradesh        MEERUT       1997  Kharif              Jowar    50.0   \n",
              "3  Uttar Pradesh        MEERUT       1997  Kharif              Maize  4556.0   \n",
              "4  Uttar Pradesh        MEERUT       1997  Kharif  Moong(Green Gram)    14.0   \n",
              "\n",
              "   production_  \n",
              "0        693.0  \n",
              "1         38.0  \n",
              "2          4.0  \n",
              "3       6817.0  \n",
              "4          6.0  "
            ],
            "text/html": [
              "\n",
              "  <div id=\"df-11d17768-f660-47de-b9b3-7aa115c3c81a\" class=\"colab-df-container\">\n",
              "    <div>\n",
              "<style scoped>\n",
              "    .dataframe tbody tr th:only-of-type {\n",
              "        vertical-align: middle;\n",
              "    }\n",
              "\n",
              "    .dataframe tbody tr th {\n",
              "        vertical-align: top;\n",
              "    }\n",
              "\n",
              "    .dataframe thead th {\n",
              "        text-align: right;\n",
              "    }\n",
              "</style>\n",
              "<table border=\"1\" class=\"dataframe\">\n",
              "  <thead>\n",
              "    <tr style=\"text-align: right;\">\n",
              "      <th></th>\n",
              "      <th>state_name</th>\n",
              "      <th>district_name</th>\n",
              "      <th>crop_year</th>\n",
              "      <th>season</th>\n",
              "      <th>crop</th>\n",
              "      <th>area_</th>\n",
              "      <th>production_</th>\n",
              "    </tr>\n",
              "  </thead>\n",
              "  <tbody>\n",
              "    <tr>\n",
              "      <th>0</th>\n",
              "      <td>Uttar Pradesh</td>\n",
              "      <td>MEERUT</td>\n",
              "      <td>1997</td>\n",
              "      <td>Kharif</td>\n",
              "      <td>Arhar/Tur</td>\n",
              "      <td>986.0</td>\n",
              "      <td>693.0</td>\n",
              "    </tr>\n",
              "    <tr>\n",
              "      <th>1</th>\n",
              "      <td>Uttar Pradesh</td>\n",
              "      <td>MEERUT</td>\n",
              "      <td>1997</td>\n",
              "      <td>Kharif</td>\n",
              "      <td>Bajra</td>\n",
              "      <td>27.0</td>\n",
              "      <td>38.0</td>\n",
              "    </tr>\n",
              "    <tr>\n",
              "      <th>2</th>\n",
              "      <td>Uttar Pradesh</td>\n",
              "      <td>MEERUT</td>\n",
              "      <td>1997</td>\n",
              "      <td>Kharif</td>\n",
              "      <td>Jowar</td>\n",
              "      <td>50.0</td>\n",
              "      <td>4.0</td>\n",
              "    </tr>\n",
              "    <tr>\n",
              "      <th>3</th>\n",
              "      <td>Uttar Pradesh</td>\n",
              "      <td>MEERUT</td>\n",
              "      <td>1997</td>\n",
              "      <td>Kharif</td>\n",
              "      <td>Maize</td>\n",
              "      <td>4556.0</td>\n",
              "      <td>6817.0</td>\n",
              "    </tr>\n",
              "    <tr>\n",
              "      <th>4</th>\n",
              "      <td>Uttar Pradesh</td>\n",
              "      <td>MEERUT</td>\n",
              "      <td>1997</td>\n",
              "      <td>Kharif</td>\n",
              "      <td>Moong(Green Gram)</td>\n",
              "      <td>14.0</td>\n",
              "      <td>6.0</td>\n",
              "    </tr>\n",
              "  </tbody>\n",
              "</table>\n",
              "</div>\n",
              "    <div class=\"colab-df-buttons\">\n",
              "\n",
              "  <div class=\"colab-df-container\">\n",
              "    <button class=\"colab-df-convert\" onclick=\"convertToInteractive('df-11d17768-f660-47de-b9b3-7aa115c3c81a')\"\n",
              "            title=\"Convert this dataframe to an interactive table.\"\n",
              "            style=\"display:none;\">\n",
              "\n",
              "  <svg xmlns=\"http://www.w3.org/2000/svg\" height=\"24px\" viewBox=\"0 -960 960 960\">\n",
              "    <path d=\"M120-120v-720h720v720H120Zm60-500h600v-160H180v160Zm220 220h160v-160H400v160Zm0 220h160v-160H400v160ZM180-400h160v-160H180v160Zm440 0h160v-160H620v160ZM180-180h160v-160H180v160Zm440 0h160v-160H620v160Z\"/>\n",
              "  </svg>\n",
              "    </button>\n",
              "\n",
              "  <style>\n",
              "    .colab-df-container {\n",
              "      display:flex;\n",
              "      gap: 12px;\n",
              "    }\n",
              "\n",
              "    .colab-df-convert {\n",
              "      background-color: #E8F0FE;\n",
              "      border: none;\n",
              "      border-radius: 50%;\n",
              "      cursor: pointer;\n",
              "      display: none;\n",
              "      fill: #1967D2;\n",
              "      height: 32px;\n",
              "      padding: 0 0 0 0;\n",
              "      width: 32px;\n",
              "    }\n",
              "\n",
              "    .colab-df-convert:hover {\n",
              "      background-color: #E2EBFA;\n",
              "      box-shadow: 0px 1px 2px rgba(60, 64, 67, 0.3), 0px 1px 3px 1px rgba(60, 64, 67, 0.15);\n",
              "      fill: #174EA6;\n",
              "    }\n",
              "\n",
              "    .colab-df-buttons div {\n",
              "      margin-bottom: 4px;\n",
              "    }\n",
              "\n",
              "    [theme=dark] .colab-df-convert {\n",
              "      background-color: #3B4455;\n",
              "      fill: #D2E3FC;\n",
              "    }\n",
              "\n",
              "    [theme=dark] .colab-df-convert:hover {\n",
              "      background-color: #434B5C;\n",
              "      box-shadow: 0px 1px 3px 1px rgba(0, 0, 0, 0.15);\n",
              "      filter: drop-shadow(0px 1px 2px rgba(0, 0, 0, 0.3));\n",
              "      fill: #FFFFFF;\n",
              "    }\n",
              "  </style>\n",
              "\n",
              "    <script>\n",
              "      const buttonEl =\n",
              "        document.querySelector('#df-11d17768-f660-47de-b9b3-7aa115c3c81a button.colab-df-convert');\n",
              "      buttonEl.style.display =\n",
              "        google.colab.kernel.accessAllowed ? 'block' : 'none';\n",
              "\n",
              "      async function convertToInteractive(key) {\n",
              "        const element = document.querySelector('#df-11d17768-f660-47de-b9b3-7aa115c3c81a');\n",
              "        const dataTable =\n",
              "          await google.colab.kernel.invokeFunction('convertToInteractive',\n",
              "                                                    [key], {});\n",
              "        if (!dataTable) return;\n",
              "\n",
              "        const docLinkHtml = 'Like what you see? Visit the ' +\n",
              "          '<a target=\"_blank\" href=https://colab.research.google.com/notebooks/data_table.ipynb>data table notebook</a>'\n",
              "          + ' to learn more about interactive tables.';\n",
              "        element.innerHTML = '';\n",
              "        dataTable['output_type'] = 'display_data';\n",
              "        await google.colab.output.renderOutput(dataTable, element);\n",
              "        const docLink = document.createElement('div');\n",
              "        docLink.innerHTML = docLinkHtml;\n",
              "        element.appendChild(docLink);\n",
              "      }\n",
              "    </script>\n",
              "  </div>\n",
              "\n",
              "\n",
              "    <div id=\"df-a1e6871e-2e41-4080-ba72-d5ada204c86e\">\n",
              "      <button class=\"colab-df-quickchart\" onclick=\"quickchart('df-a1e6871e-2e41-4080-ba72-d5ada204c86e')\"\n",
              "                title=\"Suggest charts\"\n",
              "                style=\"display:none;\">\n",
              "\n",
              "<svg xmlns=\"http://www.w3.org/2000/svg\" height=\"24px\"viewBox=\"0 0 24 24\"\n",
              "     width=\"24px\">\n",
              "    <g>\n",
              "        <path d=\"M19 3H5c-1.1 0-2 .9-2 2v14c0 1.1.9 2 2 2h14c1.1 0 2-.9 2-2V5c0-1.1-.9-2-2-2zM9 17H7v-7h2v7zm4 0h-2V7h2v10zm4 0h-2v-4h2v4z\"/>\n",
              "    </g>\n",
              "</svg>\n",
              "      </button>\n",
              "\n",
              "<style>\n",
              "  .colab-df-quickchart {\n",
              "      --bg-color: #E8F0FE;\n",
              "      --fill-color: #1967D2;\n",
              "      --hover-bg-color: #E2EBFA;\n",
              "      --hover-fill-color: #174EA6;\n",
              "      --disabled-fill-color: #AAA;\n",
              "      --disabled-bg-color: #DDD;\n",
              "  }\n",
              "\n",
              "  [theme=dark] .colab-df-quickchart {\n",
              "      --bg-color: #3B4455;\n",
              "      --fill-color: #D2E3FC;\n",
              "      --hover-bg-color: #434B5C;\n",
              "      --hover-fill-color: #FFFFFF;\n",
              "      --disabled-bg-color: #3B4455;\n",
              "      --disabled-fill-color: #666;\n",
              "  }\n",
              "\n",
              "  .colab-df-quickchart {\n",
              "    background-color: var(--bg-color);\n",
              "    border: none;\n",
              "    border-radius: 50%;\n",
              "    cursor: pointer;\n",
              "    display: none;\n",
              "    fill: var(--fill-color);\n",
              "    height: 32px;\n",
              "    padding: 0;\n",
              "    width: 32px;\n",
              "  }\n",
              "\n",
              "  .colab-df-quickchart:hover {\n",
              "    background-color: var(--hover-bg-color);\n",
              "    box-shadow: 0 1px 2px rgba(60, 64, 67, 0.3), 0 1px 3px 1px rgba(60, 64, 67, 0.15);\n",
              "    fill: var(--button-hover-fill-color);\n",
              "  }\n",
              "\n",
              "  .colab-df-quickchart-complete:disabled,\n",
              "  .colab-df-quickchart-complete:disabled:hover {\n",
              "    background-color: var(--disabled-bg-color);\n",
              "    fill: var(--disabled-fill-color);\n",
              "    box-shadow: none;\n",
              "  }\n",
              "\n",
              "  .colab-df-spinner {\n",
              "    border: 2px solid var(--fill-color);\n",
              "    border-color: transparent;\n",
              "    border-bottom-color: var(--fill-color);\n",
              "    animation:\n",
              "      spin 1s steps(1) infinite;\n",
              "  }\n",
              "\n",
              "  @keyframes spin {\n",
              "    0% {\n",
              "      border-color: transparent;\n",
              "      border-bottom-color: var(--fill-color);\n",
              "      border-left-color: var(--fill-color);\n",
              "    }\n",
              "    20% {\n",
              "      border-color: transparent;\n",
              "      border-left-color: var(--fill-color);\n",
              "      border-top-color: var(--fill-color);\n",
              "    }\n",
              "    30% {\n",
              "      border-color: transparent;\n",
              "      border-left-color: var(--fill-color);\n",
              "      border-top-color: var(--fill-color);\n",
              "      border-right-color: var(--fill-color);\n",
              "    }\n",
              "    40% {\n",
              "      border-color: transparent;\n",
              "      border-right-color: var(--fill-color);\n",
              "      border-top-color: var(--fill-color);\n",
              "    }\n",
              "    60% {\n",
              "      border-color: transparent;\n",
              "      border-right-color: var(--fill-color);\n",
              "    }\n",
              "    80% {\n",
              "      border-color: transparent;\n",
              "      border-right-color: var(--fill-color);\n",
              "      border-bottom-color: var(--fill-color);\n",
              "    }\n",
              "    90% {\n",
              "      border-color: transparent;\n",
              "      border-bottom-color: var(--fill-color);\n",
              "    }\n",
              "  }\n",
              "</style>\n",
              "\n",
              "      <script>\n",
              "        async function quickchart(key) {\n",
              "          const quickchartButtonEl =\n",
              "            document.querySelector('#' + key + ' button');\n",
              "          quickchartButtonEl.disabled = true;  // To prevent multiple clicks.\n",
              "          quickchartButtonEl.classList.add('colab-df-spinner');\n",
              "          try {\n",
              "            const charts = await google.colab.kernel.invokeFunction(\n",
              "                'suggestCharts', [key], {});\n",
              "          } catch (error) {\n",
              "            console.error('Error during call to suggestCharts:', error);\n",
              "          }\n",
              "          quickchartButtonEl.classList.remove('colab-df-spinner');\n",
              "          quickchartButtonEl.classList.add('colab-df-quickchart-complete');\n",
              "        }\n",
              "        (() => {\n",
              "          let quickchartButtonEl =\n",
              "            document.querySelector('#df-a1e6871e-2e41-4080-ba72-d5ada204c86e button');\n",
              "          quickchartButtonEl.style.display =\n",
              "            google.colab.kernel.accessAllowed ? 'block' : 'none';\n",
              "        })();\n",
              "      </script>\n",
              "    </div>\n",
              "\n",
              "    </div>\n",
              "  </div>\n"
            ],
            "application/vnd.google.colaboratory.intrinsic+json": {
              "type": "dataframe",
              "variable_name": "agri_df",
              "summary": "{\n  \"name\": \"agri_df\",\n  \"rows\": 36640,\n  \"fields\": [\n    {\n      \"column\": \"state_name\",\n      \"properties\": {\n        \"dtype\": \"category\",\n        \"num_unique_values\": 10,\n        \"samples\": [\n          \"Haryana\",\n          \"Madhya Pradesh\",\n          \"Punjab\"\n        ],\n        \"semantic_type\": \"\",\n        \"description\": \"\"\n      }\n    },\n    {\n      \"column\": \"district_name\",\n      \"properties\": {\n        \"dtype\": \"category\",\n        \"num_unique_values\": 77,\n        \"samples\": [\n          \"KANPUR NAGAR\",\n          \"GULBARGA\",\n          \"HOSHANGABAD\"\n        ],\n        \"semantic_type\": \"\",\n        \"description\": \"\"\n      }\n    },\n    {\n      \"column\": \"crop_year\",\n      \"properties\": {\n        \"dtype\": \"number\",\n        \"std\": 4,\n        \"min\": 1997,\n        \"max\": 2014,\n        \"num_unique_values\": 18,\n        \"samples\": [\n          1997,\n          1998,\n          2005\n        ],\n        \"semantic_type\": \"\",\n        \"description\": \"\"\n      }\n    },\n    {\n      \"column\": \"season\",\n      \"properties\": {\n        \"dtype\": \"category\",\n        \"num_unique_values\": 6,\n        \"samples\": [\n          \"Kharif\",\n          \"Rabi\",\n          \"Winter\"\n        ],\n        \"semantic_type\": \"\",\n        \"description\": \"\"\n      }\n    },\n    {\n      \"column\": \"crop\",\n      \"properties\": {\n        \"dtype\": \"category\",\n        \"num_unique_values\": 89,\n        \"samples\": [\n          \"Beans & Mutter(Vegetable)\",\n          \"Papaya\",\n          \"Other Kharif pulses\"\n        ],\n        \"semantic_type\": \"\",\n        \"description\": \"\"\n      }\n    },\n    {\n      \"column\": \"area_\",\n      \"properties\": {\n        \"dtype\": \"number\",\n        \"std\": 87774.74593171343,\n        \"min\": 1.0,\n        \"max\": 8580100.0,\n        \"num_unique_values\": 11590,\n        \"samples\": [\n          5835.0,\n          110050.0,\n          12258.0\n        ],\n        \"semantic_type\": \"\",\n        \"description\": \"\"\n      }\n    },\n    {\n      \"column\": \"production_\",\n      \"properties\": {\n        \"dtype\": \"number\",\n        \"std\": 13941784.642850818,\n        \"min\": 0.0,\n        \"max\": 780162000.0,\n        \"num_unique_values\": 12959,\n        \"samples\": [\n          36939.0,\n          7450.0,\n          790.0\n        ],\n        \"semantic_type\": \"\",\n        \"description\": \"\"\n      }\n    }\n  ]\n}"
            }
          },
          "metadata": {},
          "execution_count": 8
        }
      ]
    },
    {
      "cell_type": "code",
      "source": [
        "agri_df.info()"
      ],
      "metadata": {
        "colab": {
          "base_uri": "https://localhost:8080/"
        },
        "id": "G94BHTDdVEnY",
        "outputId": "a3c6c1c6-70ee-4ca1-c1fc-ecb66b3bc692"
      },
      "execution_count": null,
      "outputs": [
        {
          "output_type": "stream",
          "name": "stdout",
          "text": [
            "<class 'pandas.core.frame.DataFrame'>\n",
            "RangeIndex: 36640 entries, 0 to 36639\n",
            "Data columns (total 7 columns):\n",
            " #   Column         Non-Null Count  Dtype  \n",
            "---  ------         --------------  -----  \n",
            " 0   state_name     36640 non-null  object \n",
            " 1   district_name  36640 non-null  object \n",
            " 2   crop_year      36640 non-null  int64  \n",
            " 3   season         36640 non-null  object \n",
            " 4   crop           36640 non-null  object \n",
            " 5   area_          36640 non-null  float64\n",
            " 6   production_    35905 non-null  float64\n",
            "dtypes: float64(2), int64(1), object(4)\n",
            "memory usage: 2.0+ MB\n"
          ]
        }
      ]
    },
    {
      "cell_type": "code",
      "source": [
        "agri_df.isnull().sum()"
      ],
      "metadata": {
        "colab": {
          "base_uri": "https://localhost:8080/",
          "height": 303
        },
        "id": "xt5qcpxHVTiZ",
        "outputId": "e76f1e5c-3dc8-4b8a-cfc6-dcb1acd9ab26"
      },
      "execution_count": null,
      "outputs": [
        {
          "output_type": "execute_result",
          "data": {
            "text/plain": [
              "state_name         0\n",
              "district_name      0\n",
              "crop_year          0\n",
              "season             0\n",
              "crop               0\n",
              "area_              0\n",
              "production_      735\n",
              "dtype: int64"
            ],
            "text/html": [
              "<div>\n",
              "<style scoped>\n",
              "    .dataframe tbody tr th:only-of-type {\n",
              "        vertical-align: middle;\n",
              "    }\n",
              "\n",
              "    .dataframe tbody tr th {\n",
              "        vertical-align: top;\n",
              "    }\n",
              "\n",
              "    .dataframe thead th {\n",
              "        text-align: right;\n",
              "    }\n",
              "</style>\n",
              "<table border=\"1\" class=\"dataframe\">\n",
              "  <thead>\n",
              "    <tr style=\"text-align: right;\">\n",
              "      <th></th>\n",
              "      <th>0</th>\n",
              "    </tr>\n",
              "  </thead>\n",
              "  <tbody>\n",
              "    <tr>\n",
              "      <th>state_name</th>\n",
              "      <td>0</td>\n",
              "    </tr>\n",
              "    <tr>\n",
              "      <th>district_name</th>\n",
              "      <td>0</td>\n",
              "    </tr>\n",
              "    <tr>\n",
              "      <th>crop_year</th>\n",
              "      <td>0</td>\n",
              "    </tr>\n",
              "    <tr>\n",
              "      <th>season</th>\n",
              "      <td>0</td>\n",
              "    </tr>\n",
              "    <tr>\n",
              "      <th>crop</th>\n",
              "      <td>0</td>\n",
              "    </tr>\n",
              "    <tr>\n",
              "      <th>area_</th>\n",
              "      <td>0</td>\n",
              "    </tr>\n",
              "    <tr>\n",
              "      <th>production_</th>\n",
              "      <td>735</td>\n",
              "    </tr>\n",
              "  </tbody>\n",
              "</table>\n",
              "</div><br><label><b>dtype:</b> int64</label>"
            ]
          },
          "metadata": {},
          "execution_count": 10
        }
      ]
    },
    {
      "cell_type": "markdown",
      "source": [
        "##Findings\n",
        "We have 735 NaN values"
      ],
      "metadata": {
        "id": "1p90ZE_NWqWA"
      }
    },
    {
      "cell_type": "code",
      "source": [
        "zeros_production = (agri_df['production_'] == 0).sum()\n",
        "zeros_production"
      ],
      "metadata": {
        "colab": {
          "base_uri": "https://localhost:8080/"
        },
        "id": "NRdPE0-nVb1t",
        "outputId": "f7128051-caaf-4039-dee9-b6d190f34c87"
      },
      "execution_count": null,
      "outputs": [
        {
          "output_type": "execute_result",
          "data": {
            "text/plain": [
              "np.int64(610)"
            ]
          },
          "metadata": {},
          "execution_count": 11
        }
      ]
    },
    {
      "cell_type": "markdown",
      "source": [
        "## Finding\n",
        "\n",
        "we have 610 values of production which is equivalent to 0"
      ],
      "metadata": {
        "id": "LmAVzoecWzKJ"
      }
    },
    {
      "cell_type": "markdown",
      "source": [
        "# Rename the columns names"
      ],
      "metadata": {
        "id": "7pq7f-7jW67W"
      }
    },
    {
      "cell_type": "code",
      "source": [
        "column_lst = agri_df.columns.tolist()\n",
        "column_lst"
      ],
      "metadata": {
        "colab": {
          "base_uri": "https://localhost:8080/"
        },
        "id": "BqHYEErvV2Wj",
        "outputId": "a64afdf2-34b6-4001-8941-c74334ada6a5"
      },
      "execution_count": null,
      "outputs": [
        {
          "output_type": "execute_result",
          "data": {
            "text/plain": [
              "['state_name',\n",
              " 'district_name',\n",
              " 'crop_year',\n",
              " 'season',\n",
              " 'crop',\n",
              " 'area_',\n",
              " 'production_']"
            ]
          },
          "metadata": {},
          "execution_count": 12
        }
      ]
    },
    {
      "cell_type": "markdown",
      "source": [
        "##Findings\n",
        "We have two columns whose name is not good as per the data analysis and does not seems to be good\n",
        "\n",
        "area_, production_"
      ],
      "metadata": {
        "id": "OuzEkxQyWmw1"
      }
    },
    {
      "cell_type": "code",
      "source": [
        "agri_df.rename(columns = {'area_':'area','production_':'production'},inplace = True)\n",
        "print(\"Columns renamed successfully\")"
      ],
      "metadata": {
        "colab": {
          "base_uri": "https://localhost:8080/"
        },
        "id": "Vh2oMBKuWkq8",
        "outputId": "baa78723-78d7-4846-ac22-141d94fa6411"
      },
      "execution_count": null,
      "outputs": [
        {
          "output_type": "stream",
          "name": "stdout",
          "text": [
            "Columns renamed successfully\n"
          ]
        }
      ]
    },
    {
      "cell_type": "code",
      "source": [
        "#Recheck the columns name in the dataset\n",
        "agri_df.head()"
      ],
      "metadata": {
        "colab": {
          "base_uri": "https://localhost:8080/",
          "height": 313
        },
        "id": "0AiDcHX6YEBs",
        "outputId": "7ca86673-78ae-4794-a062-23c0677ca71e"
      },
      "execution_count": null,
      "outputs": [
        {
          "output_type": "execute_result",
          "data": {
            "text/plain": [
              "      state_name district_name  crop_year  season               crop    area  \\\n",
              "0  Uttar Pradesh        MEERUT       1997  Kharif          Arhar/Tur   986.0   \n",
              "1  Uttar Pradesh        MEERUT       1997  Kharif              Bajra    27.0   \n",
              "2  Uttar Pradesh        MEERUT       1997  Kharif              Jowar    50.0   \n",
              "3  Uttar Pradesh        MEERUT       1997  Kharif              Maize  4556.0   \n",
              "4  Uttar Pradesh        MEERUT       1997  Kharif  Moong(Green Gram)    14.0   \n",
              "\n",
              "   production  \n",
              "0       693.0  \n",
              "1        38.0  \n",
              "2         4.0  \n",
              "3      6817.0  \n",
              "4         6.0  "
            ],
            "text/html": [
              "\n",
              "  <div id=\"df-75093de9-54ed-49d7-9b0c-68de19fad333\" class=\"colab-df-container\">\n",
              "    <div>\n",
              "<style scoped>\n",
              "    .dataframe tbody tr th:only-of-type {\n",
              "        vertical-align: middle;\n",
              "    }\n",
              "\n",
              "    .dataframe tbody tr th {\n",
              "        vertical-align: top;\n",
              "    }\n",
              "\n",
              "    .dataframe thead th {\n",
              "        text-align: right;\n",
              "    }\n",
              "</style>\n",
              "<table border=\"1\" class=\"dataframe\">\n",
              "  <thead>\n",
              "    <tr style=\"text-align: right;\">\n",
              "      <th></th>\n",
              "      <th>state_name</th>\n",
              "      <th>district_name</th>\n",
              "      <th>crop_year</th>\n",
              "      <th>season</th>\n",
              "      <th>crop</th>\n",
              "      <th>area</th>\n",
              "      <th>production</th>\n",
              "    </tr>\n",
              "  </thead>\n",
              "  <tbody>\n",
              "    <tr>\n",
              "      <th>0</th>\n",
              "      <td>Uttar Pradesh</td>\n",
              "      <td>MEERUT</td>\n",
              "      <td>1997</td>\n",
              "      <td>Kharif</td>\n",
              "      <td>Arhar/Tur</td>\n",
              "      <td>986.0</td>\n",
              "      <td>693.0</td>\n",
              "    </tr>\n",
              "    <tr>\n",
              "      <th>1</th>\n",
              "      <td>Uttar Pradesh</td>\n",
              "      <td>MEERUT</td>\n",
              "      <td>1997</td>\n",
              "      <td>Kharif</td>\n",
              "      <td>Bajra</td>\n",
              "      <td>27.0</td>\n",
              "      <td>38.0</td>\n",
              "    </tr>\n",
              "    <tr>\n",
              "      <th>2</th>\n",
              "      <td>Uttar Pradesh</td>\n",
              "      <td>MEERUT</td>\n",
              "      <td>1997</td>\n",
              "      <td>Kharif</td>\n",
              "      <td>Jowar</td>\n",
              "      <td>50.0</td>\n",
              "      <td>4.0</td>\n",
              "    </tr>\n",
              "    <tr>\n",
              "      <th>3</th>\n",
              "      <td>Uttar Pradesh</td>\n",
              "      <td>MEERUT</td>\n",
              "      <td>1997</td>\n",
              "      <td>Kharif</td>\n",
              "      <td>Maize</td>\n",
              "      <td>4556.0</td>\n",
              "      <td>6817.0</td>\n",
              "    </tr>\n",
              "    <tr>\n",
              "      <th>4</th>\n",
              "      <td>Uttar Pradesh</td>\n",
              "      <td>MEERUT</td>\n",
              "      <td>1997</td>\n",
              "      <td>Kharif</td>\n",
              "      <td>Moong(Green Gram)</td>\n",
              "      <td>14.0</td>\n",
              "      <td>6.0</td>\n",
              "    </tr>\n",
              "  </tbody>\n",
              "</table>\n",
              "</div>\n",
              "    <div class=\"colab-df-buttons\">\n",
              "\n",
              "  <div class=\"colab-df-container\">\n",
              "    <button class=\"colab-df-convert\" onclick=\"convertToInteractive('df-75093de9-54ed-49d7-9b0c-68de19fad333')\"\n",
              "            title=\"Convert this dataframe to an interactive table.\"\n",
              "            style=\"display:none;\">\n",
              "\n",
              "  <svg xmlns=\"http://www.w3.org/2000/svg\" height=\"24px\" viewBox=\"0 -960 960 960\">\n",
              "    <path d=\"M120-120v-720h720v720H120Zm60-500h600v-160H180v160Zm220 220h160v-160H400v160Zm0 220h160v-160H400v160ZM180-400h160v-160H180v160Zm440 0h160v-160H620v160ZM180-180h160v-160H180v160Zm440 0h160v-160H620v160Z\"/>\n",
              "  </svg>\n",
              "    </button>\n",
              "\n",
              "  <style>\n",
              "    .colab-df-container {\n",
              "      display:flex;\n",
              "      gap: 12px;\n",
              "    }\n",
              "\n",
              "    .colab-df-convert {\n",
              "      background-color: #E8F0FE;\n",
              "      border: none;\n",
              "      border-radius: 50%;\n",
              "      cursor: pointer;\n",
              "      display: none;\n",
              "      fill: #1967D2;\n",
              "      height: 32px;\n",
              "      padding: 0 0 0 0;\n",
              "      width: 32px;\n",
              "    }\n",
              "\n",
              "    .colab-df-convert:hover {\n",
              "      background-color: #E2EBFA;\n",
              "      box-shadow: 0px 1px 2px rgba(60, 64, 67, 0.3), 0px 1px 3px 1px rgba(60, 64, 67, 0.15);\n",
              "      fill: #174EA6;\n",
              "    }\n",
              "\n",
              "    .colab-df-buttons div {\n",
              "      margin-bottom: 4px;\n",
              "    }\n",
              "\n",
              "    [theme=dark] .colab-df-convert {\n",
              "      background-color: #3B4455;\n",
              "      fill: #D2E3FC;\n",
              "    }\n",
              "\n",
              "    [theme=dark] .colab-df-convert:hover {\n",
              "      background-color: #434B5C;\n",
              "      box-shadow: 0px 1px 3px 1px rgba(0, 0, 0, 0.15);\n",
              "      filter: drop-shadow(0px 1px 2px rgba(0, 0, 0, 0.3));\n",
              "      fill: #FFFFFF;\n",
              "    }\n",
              "  </style>\n",
              "\n",
              "    <script>\n",
              "      const buttonEl =\n",
              "        document.querySelector('#df-75093de9-54ed-49d7-9b0c-68de19fad333 button.colab-df-convert');\n",
              "      buttonEl.style.display =\n",
              "        google.colab.kernel.accessAllowed ? 'block' : 'none';\n",
              "\n",
              "      async function convertToInteractive(key) {\n",
              "        const element = document.querySelector('#df-75093de9-54ed-49d7-9b0c-68de19fad333');\n",
              "        const dataTable =\n",
              "          await google.colab.kernel.invokeFunction('convertToInteractive',\n",
              "                                                    [key], {});\n",
              "        if (!dataTable) return;\n",
              "\n",
              "        const docLinkHtml = 'Like what you see? Visit the ' +\n",
              "          '<a target=\"_blank\" href=https://colab.research.google.com/notebooks/data_table.ipynb>data table notebook</a>'\n",
              "          + ' to learn more about interactive tables.';\n",
              "        element.innerHTML = '';\n",
              "        dataTable['output_type'] = 'display_data';\n",
              "        await google.colab.output.renderOutput(dataTable, element);\n",
              "        const docLink = document.createElement('div');\n",
              "        docLink.innerHTML = docLinkHtml;\n",
              "        element.appendChild(docLink);\n",
              "      }\n",
              "    </script>\n",
              "  </div>\n",
              "\n",
              "\n",
              "    <div id=\"df-40d8bcad-6967-40df-82f3-64436fa9f6f0\">\n",
              "      <button class=\"colab-df-quickchart\" onclick=\"quickchart('df-40d8bcad-6967-40df-82f3-64436fa9f6f0')\"\n",
              "                title=\"Suggest charts\"\n",
              "                style=\"display:none;\">\n",
              "\n",
              "<svg xmlns=\"http://www.w3.org/2000/svg\" height=\"24px\"viewBox=\"0 0 24 24\"\n",
              "     width=\"24px\">\n",
              "    <g>\n",
              "        <path d=\"M19 3H5c-1.1 0-2 .9-2 2v14c0 1.1.9 2 2 2h14c1.1 0 2-.9 2-2V5c0-1.1-.9-2-2-2zM9 17H7v-7h2v7zm4 0h-2V7h2v10zm4 0h-2v-4h2v4z\"/>\n",
              "    </g>\n",
              "</svg>\n",
              "      </button>\n",
              "\n",
              "<style>\n",
              "  .colab-df-quickchart {\n",
              "      --bg-color: #E8F0FE;\n",
              "      --fill-color: #1967D2;\n",
              "      --hover-bg-color: #E2EBFA;\n",
              "      --hover-fill-color: #174EA6;\n",
              "      --disabled-fill-color: #AAA;\n",
              "      --disabled-bg-color: #DDD;\n",
              "  }\n",
              "\n",
              "  [theme=dark] .colab-df-quickchart {\n",
              "      --bg-color: #3B4455;\n",
              "      --fill-color: #D2E3FC;\n",
              "      --hover-bg-color: #434B5C;\n",
              "      --hover-fill-color: #FFFFFF;\n",
              "      --disabled-bg-color: #3B4455;\n",
              "      --disabled-fill-color: #666;\n",
              "  }\n",
              "\n",
              "  .colab-df-quickchart {\n",
              "    background-color: var(--bg-color);\n",
              "    border: none;\n",
              "    border-radius: 50%;\n",
              "    cursor: pointer;\n",
              "    display: none;\n",
              "    fill: var(--fill-color);\n",
              "    height: 32px;\n",
              "    padding: 0;\n",
              "    width: 32px;\n",
              "  }\n",
              "\n",
              "  .colab-df-quickchart:hover {\n",
              "    background-color: var(--hover-bg-color);\n",
              "    box-shadow: 0 1px 2px rgba(60, 64, 67, 0.3), 0 1px 3px 1px rgba(60, 64, 67, 0.15);\n",
              "    fill: var(--button-hover-fill-color);\n",
              "  }\n",
              "\n",
              "  .colab-df-quickchart-complete:disabled,\n",
              "  .colab-df-quickchart-complete:disabled:hover {\n",
              "    background-color: var(--disabled-bg-color);\n",
              "    fill: var(--disabled-fill-color);\n",
              "    box-shadow: none;\n",
              "  }\n",
              "\n",
              "  .colab-df-spinner {\n",
              "    border: 2px solid var(--fill-color);\n",
              "    border-color: transparent;\n",
              "    border-bottom-color: var(--fill-color);\n",
              "    animation:\n",
              "      spin 1s steps(1) infinite;\n",
              "  }\n",
              "\n",
              "  @keyframes spin {\n",
              "    0% {\n",
              "      border-color: transparent;\n",
              "      border-bottom-color: var(--fill-color);\n",
              "      border-left-color: var(--fill-color);\n",
              "    }\n",
              "    20% {\n",
              "      border-color: transparent;\n",
              "      border-left-color: var(--fill-color);\n",
              "      border-top-color: var(--fill-color);\n",
              "    }\n",
              "    30% {\n",
              "      border-color: transparent;\n",
              "      border-left-color: var(--fill-color);\n",
              "      border-top-color: var(--fill-color);\n",
              "      border-right-color: var(--fill-color);\n",
              "    }\n",
              "    40% {\n",
              "      border-color: transparent;\n",
              "      border-right-color: var(--fill-color);\n",
              "      border-top-color: var(--fill-color);\n",
              "    }\n",
              "    60% {\n",
              "      border-color: transparent;\n",
              "      border-right-color: var(--fill-color);\n",
              "    }\n",
              "    80% {\n",
              "      border-color: transparent;\n",
              "      border-right-color: var(--fill-color);\n",
              "      border-bottom-color: var(--fill-color);\n",
              "    }\n",
              "    90% {\n",
              "      border-color: transparent;\n",
              "      border-bottom-color: var(--fill-color);\n",
              "    }\n",
              "  }\n",
              "</style>\n",
              "\n",
              "      <script>\n",
              "        async function quickchart(key) {\n",
              "          const quickchartButtonEl =\n",
              "            document.querySelector('#' + key + ' button');\n",
              "          quickchartButtonEl.disabled = true;  // To prevent multiple clicks.\n",
              "          quickchartButtonEl.classList.add('colab-df-spinner');\n",
              "          try {\n",
              "            const charts = await google.colab.kernel.invokeFunction(\n",
              "                'suggestCharts', [key], {});\n",
              "          } catch (error) {\n",
              "            console.error('Error during call to suggestCharts:', error);\n",
              "          }\n",
              "          quickchartButtonEl.classList.remove('colab-df-spinner');\n",
              "          quickchartButtonEl.classList.add('colab-df-quickchart-complete');\n",
              "        }\n",
              "        (() => {\n",
              "          let quickchartButtonEl =\n",
              "            document.querySelector('#df-40d8bcad-6967-40df-82f3-64436fa9f6f0 button');\n",
              "          quickchartButtonEl.style.display =\n",
              "            google.colab.kernel.accessAllowed ? 'block' : 'none';\n",
              "        })();\n",
              "      </script>\n",
              "    </div>\n",
              "\n",
              "    </div>\n",
              "  </div>\n"
            ],
            "application/vnd.google.colaboratory.intrinsic+json": {
              "type": "dataframe",
              "variable_name": "agri_df",
              "summary": "{\n  \"name\": \"agri_df\",\n  \"rows\": 36640,\n  \"fields\": [\n    {\n      \"column\": \"state_name\",\n      \"properties\": {\n        \"dtype\": \"category\",\n        \"num_unique_values\": 10,\n        \"samples\": [\n          \"Haryana\",\n          \"Madhya Pradesh\",\n          \"Punjab\"\n        ],\n        \"semantic_type\": \"\",\n        \"description\": \"\"\n      }\n    },\n    {\n      \"column\": \"district_name\",\n      \"properties\": {\n        \"dtype\": \"category\",\n        \"num_unique_values\": 77,\n        \"samples\": [\n          \"KANPUR NAGAR\",\n          \"GULBARGA\",\n          \"HOSHANGABAD\"\n        ],\n        \"semantic_type\": \"\",\n        \"description\": \"\"\n      }\n    },\n    {\n      \"column\": \"crop_year\",\n      \"properties\": {\n        \"dtype\": \"number\",\n        \"std\": 4,\n        \"min\": 1997,\n        \"max\": 2014,\n        \"num_unique_values\": 18,\n        \"samples\": [\n          1997,\n          1998,\n          2005\n        ],\n        \"semantic_type\": \"\",\n        \"description\": \"\"\n      }\n    },\n    {\n      \"column\": \"season\",\n      \"properties\": {\n        \"dtype\": \"category\",\n        \"num_unique_values\": 6,\n        \"samples\": [\n          \"Kharif\",\n          \"Rabi\",\n          \"Winter\"\n        ],\n        \"semantic_type\": \"\",\n        \"description\": \"\"\n      }\n    },\n    {\n      \"column\": \"crop\",\n      \"properties\": {\n        \"dtype\": \"category\",\n        \"num_unique_values\": 89,\n        \"samples\": [\n          \"Beans & Mutter(Vegetable)\",\n          \"Papaya\",\n          \"Other Kharif pulses\"\n        ],\n        \"semantic_type\": \"\",\n        \"description\": \"\"\n      }\n    },\n    {\n      \"column\": \"area\",\n      \"properties\": {\n        \"dtype\": \"number\",\n        \"std\": 87774.74593171343,\n        \"min\": 1.0,\n        \"max\": 8580100.0,\n        \"num_unique_values\": 11590,\n        \"samples\": [\n          5835.0,\n          110050.0,\n          12258.0\n        ],\n        \"semantic_type\": \"\",\n        \"description\": \"\"\n      }\n    },\n    {\n      \"column\": \"production\",\n      \"properties\": {\n        \"dtype\": \"number\",\n        \"std\": 13941784.642850818,\n        \"min\": 0.0,\n        \"max\": 780162000.0,\n        \"num_unique_values\": 12959,\n        \"samples\": [\n          36939.0,\n          7450.0,\n          790.0\n        ],\n        \"semantic_type\": \"\",\n        \"description\": \"\"\n      }\n    }\n  ]\n}"
            }
          },
          "metadata": {},
          "execution_count": 14
        }
      ]
    },
    {
      "cell_type": "markdown",
      "source": [
        "## Handle missing production values\n"
      ],
      "metadata": {
        "id": "0jAoDeaFYPU-"
      }
    },
    {
      "cell_type": "code",
      "source": [
        "#drop rows NaN values\n",
        "agri_df_cleaned = agri_df.dropna(subset = ['production']).copy()"
      ],
      "metadata": {
        "id": "jcT7mlWnYAQH"
      },
      "execution_count": null,
      "outputs": []
    },
    {
      "cell_type": "code",
      "source": [
        "#Recheck about the null values\n",
        "print(f\"New shape: {agri_df_cleaned.shape}\")"
      ],
      "metadata": {
        "colab": {
          "base_uri": "https://localhost:8080/"
        },
        "id": "m5oiO-u3ZP98",
        "outputId": "0a155fad-40e5-4109-8738-17b88454bdb1"
      },
      "execution_count": null,
      "outputs": [
        {
          "output_type": "stream",
          "name": "stdout",
          "text": [
            "New shape: (35905, 7)\n"
          ]
        }
      ]
    },
    {
      "cell_type": "code",
      "source": [
        "agri_df_cleaned.isnull().sum()"
      ],
      "metadata": {
        "colab": {
          "base_uri": "https://localhost:8080/",
          "height": 303
        },
        "id": "ivAYiKPqZepi",
        "outputId": "68fc0f92-744a-4491-eb3f-e112f91b119a"
      },
      "execution_count": null,
      "outputs": [
        {
          "output_type": "execute_result",
          "data": {
            "text/plain": [
              "state_name       0\n",
              "district_name    0\n",
              "crop_year        0\n",
              "season           0\n",
              "crop             0\n",
              "area             0\n",
              "production       0\n",
              "dtype: int64"
            ],
            "text/html": [
              "<div>\n",
              "<style scoped>\n",
              "    .dataframe tbody tr th:only-of-type {\n",
              "        vertical-align: middle;\n",
              "    }\n",
              "\n",
              "    .dataframe tbody tr th {\n",
              "        vertical-align: top;\n",
              "    }\n",
              "\n",
              "    .dataframe thead th {\n",
              "        text-align: right;\n",
              "    }\n",
              "</style>\n",
              "<table border=\"1\" class=\"dataframe\">\n",
              "  <thead>\n",
              "    <tr style=\"text-align: right;\">\n",
              "      <th></th>\n",
              "      <th>0</th>\n",
              "    </tr>\n",
              "  </thead>\n",
              "  <tbody>\n",
              "    <tr>\n",
              "      <th>state_name</th>\n",
              "      <td>0</td>\n",
              "    </tr>\n",
              "    <tr>\n",
              "      <th>district_name</th>\n",
              "      <td>0</td>\n",
              "    </tr>\n",
              "    <tr>\n",
              "      <th>crop_year</th>\n",
              "      <td>0</td>\n",
              "    </tr>\n",
              "    <tr>\n",
              "      <th>season</th>\n",
              "      <td>0</td>\n",
              "    </tr>\n",
              "    <tr>\n",
              "      <th>crop</th>\n",
              "      <td>0</td>\n",
              "    </tr>\n",
              "    <tr>\n",
              "      <th>area</th>\n",
              "      <td>0</td>\n",
              "    </tr>\n",
              "    <tr>\n",
              "      <th>production</th>\n",
              "      <td>0</td>\n",
              "    </tr>\n",
              "  </tbody>\n",
              "</table>\n",
              "</div><br><label><b>dtype:</b> int64</label>"
            ]
          },
          "metadata": {},
          "execution_count": 17
        }
      ]
    },
    {
      "cell_type": "markdown",
      "source": [
        "#Unique Values"
      ],
      "metadata": {
        "id": "y7C0L8K4iCps"
      }
    },
    {
      "cell_type": "code",
      "source": [
        "print(\"Unique State Names:\")\n",
        "print(agri_df_cleaned['state_name'].unique())"
      ],
      "metadata": {
        "colab": {
          "base_uri": "https://localhost:8080/"
        },
        "id": "bECA_ob5hnpu",
        "outputId": "e04f9441-5af0-4a24-cf8e-b84a819b4af5"
      },
      "execution_count": null,
      "outputs": [
        {
          "output_type": "stream",
          "name": "stdout",
          "text": [
            "Unique State Names:\n",
            "['Uttar Pradesh' 'Madhya Pradesh' 'Maharashtra' 'Karnataka' 'Gujarat'\n",
            " 'Punjab' 'West Bengal' 'Rajasthan' 'Haryana' 'Andhra Pradesh']\n"
          ]
        }
      ]
    },
    {
      "cell_type": "code",
      "source": [
        "#Check unique district names (sample only first 20 to keep it readable)\n",
        "print(\"\\nUnique District Names (sample):\")\n",
        "print(agri_df_cleaned['district_name'].unique()[:20])\n"
      ],
      "metadata": {
        "colab": {
          "base_uri": "https://localhost:8080/"
        },
        "id": "I78VgHb3iQ1h",
        "outputId": "8133f4f6-2562-42dc-f06d-2e9b16640177"
      },
      "execution_count": null,
      "outputs": [
        {
          "output_type": "stream",
          "name": "stdout",
          "text": [
            "\n",
            "Unique District Names (sample):\n",
            "['MEERUT' 'AGRA' 'LUCKNOW' 'GHAZIABAD' 'KANPUR NAGAR' 'VARANASI' 'ALIGARH'\n",
            " 'MORADABAD' 'GORAKHPUR' 'ALLAHABAD' 'HOSHANGABAD' 'VIDISHA' 'SEHORE'\n",
            " 'BHOPAL' 'INDORE' 'JABALPUR' 'GWALIOR' 'UJJAIN' 'SAGAR' 'RATLAM']\n"
          ]
        }
      ]
    },
    {
      "cell_type": "code",
      "source": [
        "# Check seasons\n",
        "print(\"\\nUnique Seasons:\")\n",
        "print(agri_df_cleaned['season'].unique())"
      ],
      "metadata": {
        "colab": {
          "base_uri": "https://localhost:8080/"
        },
        "id": "dLZhcjSiiX48",
        "outputId": "e4b0027d-2841-40b3-f43a-659992202ff2"
      },
      "execution_count": null,
      "outputs": [
        {
          "output_type": "stream",
          "name": "stdout",
          "text": [
            "\n",
            "Unique Seasons:\n",
            "['Kharif' 'Rabi' 'Summer' 'Whole Year' 'Autumn' 'Winter']\n"
          ]
        }
      ]
    },
    {
      "cell_type": "code",
      "source": [
        "#Check crops\n",
        "print(\"\\nUnique Crops (sample):\")\n",
        "print(agri_df_cleaned['crop'].unique())"
      ],
      "metadata": {
        "colab": {
          "base_uri": "https://localhost:8080/"
        },
        "id": "D_jRWA-pigvQ",
        "outputId": "099f2d9a-8e5a-4fa9-b0e0-1843e36c4a5d"
      },
      "execution_count": null,
      "outputs": [
        {
          "output_type": "stream",
          "name": "stdout",
          "text": [
            "\n",
            "Unique Crops (sample):\n",
            "['Arhar/Tur' 'Bajra' 'Jowar' 'Maize' 'Moong(Green Gram)' 'Oilseeds total'\n",
            " 'Onion' 'Rice' 'Sesamum' 'Small millets' 'Total foodgrain' 'Urad'\n",
            " 'Barley' 'Gram' 'Masoor' 'Peas & beans (Pulses)' 'Rapeseed &Mustard'\n",
            " 'Sunflower' 'Wheat' 'Potato' 'Sugarcane' 'Cotton(lint)' 'Castor seed'\n",
            " 'Turmeric' 'Groundnut' 'Sannhamp' 'Dry chillies' 'Garlic' 'Sweet potato'\n",
            " 'Coriander' 'Other Kharif pulses' 'Other  Rabi pulses' 'Guar seed'\n",
            " 'Linseed' 'Moth' 'Soyabean' 'Jute' 'Dry ginger' 'Ragi' 'Tobacco' 'Banana'\n",
            " 'Paddy' 'Safflower' 'Niger seed' 'Beans & Mutter(Vegetable)' 'Bhindi'\n",
            " 'Brinjal' 'Cabbage' 'Cauliflower' 'Citrus Fruit' 'Mango'\n",
            " 'Other Fresh Fruits' 'Other Vegetables' 'Papaya' 'Pome Fruit' 'Tomato'\n",
            " 'other misc. pulses' 'Orange' 'Other Citrus Fruit' 'Water Melon'\n",
            " 'Horse-gram' 'Khesari' 'Cowpea(Lobia)' 'Mesta' 'Grapes' 'Pulses total'\n",
            " 'Other Cereals & Millets' 'other oilseeds' 'Black pepper' 'Arecanut'\n",
            " 'Cardamom' 'Coconut' 'Arcanut (Processed)' 'Atcanut (Raw)'\n",
            " 'Cashewnut Processed' 'Cashewnut Raw' 'Cashewnut' 'Tapioca'\n",
            " 'other fibres' 'Korra' 'Samai' 'Bottle Gourd' 'Cucumber' 'Lemon' 'Sapota'\n",
            " 'Pome Granet' 'Ginger' 'Peas  (vegetable)' 'Varagu']\n"
          ]
        }
      ]
    },
    {
      "cell_type": "markdown",
      "source": [
        "#Standardize District Names"
      ],
      "metadata": {
        "id": "fTr55E83nGfo"
      }
    },
    {
      "cell_type": "code",
      "source": [
        "#district_name to Title case\n",
        "\n",
        "agri_df_cleaned['district_name'] = agri_df_cleaned['district_name'].str.title()\n"
      ],
      "metadata": {
        "id": "7ikyrJ42io6k"
      },
      "execution_count": null,
      "outputs": []
    },
    {
      "cell_type": "code",
      "source": [
        "#Check\n",
        "print(agri_df_cleaned['district_name'].unique()[:5])"
      ],
      "metadata": {
        "colab": {
          "base_uri": "https://localhost:8080/"
        },
        "id": "Fez6Yk5TnZHY",
        "outputId": "b0b3551f-617f-431d-a1ab-d0c4a99681e9"
      },
      "execution_count": null,
      "outputs": [
        {
          "output_type": "stream",
          "name": "stdout",
          "text": [
            "['Meerut' 'Agra' 'Lucknow' 'Ghaziabad' 'Kanpur Nagar']\n"
          ]
        }
      ]
    },
    {
      "cell_type": "code",
      "source": [
        "#Clean 'Crop' Names\n",
        "\n",
        "#Strip leading and trailing whitespace\n",
        "agri_df_cleaned['corp'] = agri_df_cleaned['crop'].str.strip()"
      ],
      "metadata": {
        "id": "s54TTJzknibA"
      },
      "execution_count": null,
      "outputs": []
    },
    {
      "cell_type": "code",
      "source": [
        "#Convert to Title Case for consitency\n",
        "agri_df_cleaned['crop'] = agri_df_cleaned['crop'].str.title()"
      ],
      "metadata": {
        "id": "T4CZ628xnyiv"
      },
      "execution_count": null,
      "outputs": []
    },
    {
      "cell_type": "code",
      "source": [
        "print(\"Cleaned Crop Names (sample): \")\n",
        "print(agri_df_cleaned['crop'].unique()[:5])"
      ],
      "metadata": {
        "colab": {
          "base_uri": "https://localhost:8080/"
        },
        "id": "2fwnqBjOoB50",
        "outputId": "b6bc1fa0-f753-472e-9713-d9d9f2d6c76f"
      },
      "execution_count": null,
      "outputs": [
        {
          "output_type": "stream",
          "name": "stdout",
          "text": [
            "Cleaned Crop Names (sample): \n",
            "['Arhar/Tur' 'Bajra' 'Jowar' 'Maize' 'Moong(Green Gram)']\n"
          ]
        }
      ]
    },
    {
      "cell_type": "code",
      "source": [
        "#Standardize 'crop' names using a mapping dictionary\n",
        "\n",
        "# Key = Current non-standard value, Value = Desired standard value\n",
        "crop_mapping = {\n",
        "    'Arhar/Tur': 'Arhar',                   # Resolve slash\n",
        "    'Moong(Green Gram)': 'Moong',           # Remove parentheses\n",
        "    'Urad': 'Black Gram',                   # Use common name\n",
        "    'Masoor': 'Lentil',                     # Use common name\n",
        "    'Peas & Beans (Pulses)': 'Peas & Beans',# Remove extra context\n",
        "    'Paddy': 'Rice',                        # Standardize 'Paddy' (unprocessed) to 'Rice'\n",
        "    'Dry Chillies': 'Chillies',\n",
        "    'Dry Ginger': 'Ginger',\n",
        "    'Sweet Potato': 'Sweetpotato',           # Optional: standardize compound word spacing\n",
        "    'Other Kharif Pulses': 'Other Pulses',\n",
        "    'Other Rabi Pulses': 'Other Pulses',\n",
        "    'Other Misc. Pulses': 'Other Pulses',\n",
        "    'Pulses Total': 'Pulses Total',         # Keep totals distinct\n",
        "    'Cashewnut Processed': 'Cashewnut',     # Standardize Cashewnut entries\n",
        "    'Cashewnut Raw': 'Cashewnut',\n",
        "    'Atcanut (Raw)': 'Arecanut',            # Fix typo/variant\n",
        "    'Other Oilseeds': 'Oilseeds Total',     # Grouping\n",
        "    'Small Millets': 'Millets Total',\n",
        "    'Other Cereals & Millets': 'Millets Total',\n",
        "    'Horse-Gram': 'Horse Gram',\n",
        "    'Cowpea(Lobia)': 'Cowpea',\n",
        "    'Other Fresh Fruits': 'Other Fruits',\n",
        "    'Pome Granet': 'Pomegranate',           # Fix spelling\n",
        "    'Peas  (Vegetable)': 'Peas',             # Clean up extra spaces and context\n",
        "    'Beans & Mutter(Vegetable)': 'Beans & Mutter',\n",
        "    'Cotton(Lint)' : 'Cotton',\n",
        "    'Rapeseed &Mustard': 'Rapeseed & Mustard',\n",
        "    'Other  Rabi Pulses': 'Other Pulses',\n",
        "    'Arcanut (Processed)': 'Arecanut'\n",
        "\n",
        "\n",
        "\n",
        "}\n",
        "\n",
        "# The .map() function replaces values based on the dictionary.\n",
        "agri_df_cleaned['crop'] = agri_df_cleaned['crop'].replace(crop_mapping)\n",
        "\n",
        "\n",
        "# Verification Check\n",
        "print(\"\\nStandardized Crop Names (sample after mapping):\")\n",
        "print(agri_df_cleaned['crop'].unique())"
      ],
      "metadata": {
        "colab": {
          "base_uri": "https://localhost:8080/"
        },
        "id": "gQ-qmCRqoLKQ",
        "outputId": "800f5638-9941-47dd-d308-27234735782a"
      },
      "execution_count": null,
      "outputs": [
        {
          "output_type": "stream",
          "name": "stdout",
          "text": [
            "\n",
            "Standardized Crop Names (sample after mapping):\n",
            "['Arhar' 'Bajra' 'Jowar' 'Maize' 'Moong' 'Oilseeds Total' 'Onion' 'Rice'\n",
            " 'Sesamum' 'Millets Total' 'Total Foodgrain' 'Black Gram' 'Barley' 'Gram'\n",
            " 'Lentil' 'Peas & Beans' 'Rapeseed & Mustard' 'Sunflower' 'Wheat' 'Potato'\n",
            " 'Sugarcane' 'Cotton' 'Castor Seed' 'Turmeric' 'Groundnut' 'Sannhamp'\n",
            " 'Chillies' 'Garlic' 'Sweetpotato' 'Coriander' 'Other Pulses' 'Guar Seed'\n",
            " 'Linseed' 'Moth' 'Soyabean' 'Jute' 'Ginger' 'Ragi' 'Tobacco' 'Banana'\n",
            " 'Safflower' 'Niger Seed' 'Beans & Mutter' 'Bhindi' 'Brinjal' 'Cabbage'\n",
            " 'Cauliflower' 'Citrus Fruit' 'Mango' 'Other Fruits' 'Other Vegetables'\n",
            " 'Papaya' 'Pome Fruit' 'Tomato' 'Orange' 'Other Citrus Fruit'\n",
            " 'Water Melon' 'Horse Gram' 'Khesari' 'Cowpea' 'Mesta' 'Grapes'\n",
            " 'Pulses Total' 'Black Pepper' 'Arecanut' 'Cardamom' 'Coconut' 'Cashewnut'\n",
            " 'Tapioca' 'Other Fibres' 'Korra' 'Samai' 'Bottle Gourd' 'Cucumber'\n",
            " 'Lemon' 'Sapota' 'Pomegranate' 'Peas' 'Varagu']\n"
          ]
        }
      ]
    },
    {
      "cell_type": "code",
      "source": [
        "#Final whitespace strip on 'state_name' and 'season'\n",
        "\n",
        "# Strip whitespace from 'state_name'\n",
        "agri_df_cleaned['state_name'] = agri_df_cleaned['state_name'].str.strip()\n",
        "\n",
        "# Strip whitespace from 'season'\n",
        "agri_df_cleaned['season'] = agri_df_cleaned['season'].str.strip()\n",
        "\n",
        "\n",
        "# Final Verification\n",
        "print(\"\\nFinal Check for Cleaned Unique Seasons:\")\n",
        "print(agri_df_cleaned['season'].unique())\n",
        "\n",
        "print(\"\\nFinal Check for Cleaned Unique States:\")\n",
        "print(agri_df_cleaned['state_name'].unique())"
      ],
      "metadata": {
        "colab": {
          "base_uri": "https://localhost:8080/"
        },
        "id": "095geyEFocat",
        "outputId": "3d3cc89f-8156-4b77-e11c-01e33825bdb6"
      },
      "execution_count": null,
      "outputs": [
        {
          "output_type": "stream",
          "name": "stdout",
          "text": [
            "\n",
            "Final Check for Cleaned Unique Seasons:\n",
            "['Kharif' 'Rabi' 'Summer' 'Whole Year' 'Autumn' 'Winter']\n",
            "\n",
            "Final Check for Cleaned Unique States:\n",
            "['Uttar Pradesh' 'Madhya Pradesh' 'Maharashtra' 'Karnataka' 'Gujarat'\n",
            " 'Punjab' 'West Bengal' 'Rajasthan' 'Haryana' 'Andhra Pradesh']\n"
          ]
        }
      ]
    },
    {
      "cell_type": "code",
      "source": [
        "agri_df_cleaned['season'].value_counts()"
      ],
      "metadata": {
        "id": "QYHqzyRIotPa",
        "colab": {
          "base_uri": "https://localhost:8080/",
          "height": 303
        },
        "outputId": "acc6ae2f-a5e5-4ca1-be4b-ee8021f97604"
      },
      "execution_count": null,
      "outputs": [
        {
          "output_type": "execute_result",
          "data": {
            "text/plain": [
              "season\n",
              "Kharif        15294\n",
              "Rabi          10558\n",
              "Whole Year     7229\n",
              "Summer         2514\n",
              "Autumn          182\n",
              "Winter          128\n",
              "Name: count, dtype: int64"
            ],
            "text/html": [
              "<div>\n",
              "<style scoped>\n",
              "    .dataframe tbody tr th:only-of-type {\n",
              "        vertical-align: middle;\n",
              "    }\n",
              "\n",
              "    .dataframe tbody tr th {\n",
              "        vertical-align: top;\n",
              "    }\n",
              "\n",
              "    .dataframe thead th {\n",
              "        text-align: right;\n",
              "    }\n",
              "</style>\n",
              "<table border=\"1\" class=\"dataframe\">\n",
              "  <thead>\n",
              "    <tr style=\"text-align: right;\">\n",
              "      <th></th>\n",
              "      <th>count</th>\n",
              "    </tr>\n",
              "    <tr>\n",
              "      <th>season</th>\n",
              "      <th></th>\n",
              "    </tr>\n",
              "  </thead>\n",
              "  <tbody>\n",
              "    <tr>\n",
              "      <th>Kharif</th>\n",
              "      <td>15294</td>\n",
              "    </tr>\n",
              "    <tr>\n",
              "      <th>Rabi</th>\n",
              "      <td>10558</td>\n",
              "    </tr>\n",
              "    <tr>\n",
              "      <th>Whole Year</th>\n",
              "      <td>7229</td>\n",
              "    </tr>\n",
              "    <tr>\n",
              "      <th>Summer</th>\n",
              "      <td>2514</td>\n",
              "    </tr>\n",
              "    <tr>\n",
              "      <th>Autumn</th>\n",
              "      <td>182</td>\n",
              "    </tr>\n",
              "    <tr>\n",
              "      <th>Winter</th>\n",
              "      <td>128</td>\n",
              "    </tr>\n",
              "  </tbody>\n",
              "</table>\n",
              "</div><br><label><b>dtype:</b> int64</label>"
            ]
          },
          "metadata": {},
          "execution_count": 30
        }
      ]
    },
    {
      "cell_type": "code",
      "source": [
        "agri_df_cleaned.to_csv('/content/drive/MyDrive/My_Projects/Build_For_Bharat/agri_df.csv',index = False)"
      ],
      "metadata": {
        "id": "P08FcIeEpLo1"
      },
      "execution_count": null,
      "outputs": []
    },
    {
      "cell_type": "code",
      "source": [],
      "metadata": {
        "id": "05cCzLE-lBX0"
      },
      "execution_count": null,
      "outputs": []
    }
  ]
}